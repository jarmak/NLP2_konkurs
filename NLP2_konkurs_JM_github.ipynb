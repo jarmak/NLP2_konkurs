{
 "cells": [
  {
   "cell_type": "markdown",
   "metadata": {},
   "source": [
    "# DataWorkshop - course NLP2 (2021)\n",
    "#### https://dataworkshop.eu/pl/nlp\n",
    "## NLP contest: \n",
    "#### https://www.kaggle.com/c/nlp-predicting-house-prices/leaderboard\n",
    "### author: Jarosław Maksimowicz"
   ]
  },
  {
   "cell_type": "code",
   "execution_count": 1,
   "metadata": {
    "ExecuteTime": {
     "end_time": "2021-11-08T20:17:35.989768Z",
     "start_time": "2021-11-08T20:17:25.183528Z"
    }
   },
   "outputs": [],
   "source": [
    "import pandas as pd\n",
    "import numpy as np\n",
    "import re\n",
    "np.random.seed(0)\n",
    "from sklearn.feature_extraction.text import CountVectorizer, TfidfVectorizer\n",
    "from sklearn.model_selection import KFold, cross_val_score\n",
    "import xgboost as xgb\n",
    "\n",
    "pd.set_option('display.max_colwidth',None) ### show all text\n",
    "\n",
    "!mkdir -p ../output\n",
    "\n",
    "### load data\n",
    "df_train = pd.read_hdf(\"../input/df.train.h5\")\n",
    "df_test = pd.read_hdf(\"../input/df.test.h5\")\n",
    "\n",
    "#print(\"loaded df_train & df_test: \", df_train.shape, df_test.shape)\n",
    "\n",
    "df_train['price_value'] = df_train['price'].map(lambda x: x.split(\"zł\")[0].replace(\" \", \"\").replace(\",\", \".\")).astype(float)\n",
    "\n",
    "df = pd.concat([df_train, df_test], axis=0)\n",
    "df[\"text\"] = df[\"text_description\"].map(lambda x: \" \".join(x))\n",
    "\n",
    "### manual clean\n",
    "df[\"text\"] = df[\"text\"].map(lambda x: x.replace(\"\\r\\n\", \"\").replace(\"\\n\", \"\").replace(\"\\xa0\", \"\").replace(\"  \", \" \"))\n",
    "\n",
    "# stop words\n",
    "my_stop_words = {'i', 'Opis'}\n",
    "\n",
    "#### prepare X, y\n",
    "vec = CountVectorizer(**{'max_features': 3000, 'lowercase': True})\n",
    "X = vec.fit_transform(df['text']).toarray()\n",
    "y = df['price_value']"
   ]
  },
  {
   "cell_type": "code",
   "execution_count": null,
   "metadata": {},
   "outputs": [],
   "source": [
    "### Featue Engineering"
   ]
  },
  {
   "cell_type": "code",
   "execution_count": 127,
   "metadata": {
    "ExecuteTime": {
     "end_time": "2021-10-24T21:27:20.343042Z",
     "start_time": "2021-10-24T21:27:20.336878Z"
    }
   },
   "outputs": [],
   "source": [
    "def find_keywords(df, keyword, top=50, len_before=10, len_after=30, return_all=False):\n",
    "    sub_df = df[ df[\"text\"].map(lambda x: keyword in x) ][\"text\"]\n",
    "#    print(sub_df.shape)\n",
    "    def find_substr(value):\n",
    "        value = value.lower()\n",
    "        keyword_idx = value.find(keyword)\n",
    "        return value[keyword_idx-len_before : keyword_idx+len_after]\n",
    "        \n",
    "    if return_all:\n",
    "        return df[\"text\"].map(find_substr)\n",
    "    \n",
    "    return df[\"text\"].map(find_substr).sample(top)\n",
    "\n",
    "\n",
    "def parse_founded(sample):\n",
    "    if sample != \"\":\n",
    "        return 1 \n",
    "    return 0 "
   ]
  },
  {
   "cell_type": "code",
   "execution_count": 128,
   "metadata": {
    "ExecuteTime": {
     "end_time": "2021-10-24T21:27:23.062186Z",
     "start_time": "2021-10-24T21:27:20.420697Z"
    }
   },
   "outputs": [],
   "source": [
    "### GARAŻ / PARKING / POSTOJOWE\n",
    "df[\"garage\"] = find_keywords(df, \"garaż\", top=50, len_before=0, len_after=10, return_all=True).map(parse_founded)\n",
    "df[\"parking\"] = find_keywords(df, \"parking\", top=50, len_before=0, len_after=10, return_all=True).map(parse_founded)\n",
    "df[\"parking_place\"] = find_keywords(df, \"postojowe\", top=50, len_before=0, len_after=10, return_all=True).map(parse_founded)\n",
    "\n",
    "def get_can_park(a,b,c):\n",
    "    if a or b or c:\n",
    "        return 1\n",
    "    return 0\n",
    "df[\"can_park\"] = df.apply(lambda x: get_can_park(x[\"garage\"],x[\"parking\"],x[\"parking_place\"]),axis=1)\n",
    "\n",
    "X_parking = df[ [\"garage\", \"parking\", \"parking_place\", \"can_park\"] ].fillna(-1)\n",
    "#X_parking.shape\n",
    "#X_parking.sample(10)\n",
    "X_final = np.hstack([X_parking, X])"
   ]
  },
  {
   "cell_type": "code",
   "execution_count": 129,
   "metadata": {
    "ExecuteTime": {
     "end_time": "2021-10-24T21:27:23.999168Z",
     "start_time": "2021-10-24T21:27:23.133288Z"
    }
   },
   "outputs": [],
   "source": [
    "### AREA\n",
    "#pattern = r\"powierzchn[^\\d]\\s*[a-zżźńęóął:\\.\\-\\,\\s\\(]*(\\d+[.,]?\\d*)\\s*(m2|mkw|m.kw.|m²)?\"\n",
    "pattern = r\"powierzchn[^\\d]+([\\d]+[,.]?[\\d]*)\\s*(m2|mkw|m.kw.)?\\s*\"\n",
    "\n",
    "def try_parse_area(sample):\n",
    "    match = re.match( pattern, sample, re.M|re.I)\n",
    "    if match: \n",
    "        return match.group(1)\n",
    "    return sample\n",
    "\n",
    "def parse_area(sample):\n",
    "    match = re.match( pattern, sample, re.M|re.I)\n",
    "    if match: \n",
    "        return match.group(1)\n",
    "    return -1\n",
    "\n",
    "df[\"area\"] = find_keywords(df, \"powierzch\", top=50, len_before=0, len_after=30, return_all=True).map(parse_area)\n",
    "df[\"area\"] = df[\"area\"].str.replace(\",\", \".\").astype(\"float\")\n",
    "df[\"area_log\"] = np.log(df[\"area\"])\n",
    "X_areas = df[ [\"area\", \"area_log\"] ].fillna(-1)\n",
    "X_final = np.hstack([X_areas, X_final])\n",
    "#X_areas.shape # (29580, 2)"
   ]
  },
  {
   "cell_type": "code",
   "execution_count": 130,
   "metadata": {
    "ExecuteTime": {
     "end_time": "2021-10-24T21:27:29.203963Z",
     "start_time": "2021-10-24T21:27:24.058120Z"
    }
   },
   "outputs": [],
   "source": [
    "### DO REMONTU / PO REMONCIE / STAN DEWELOPERSKI / MIESZKANIE / APARTAMENT / KAMIENICA / BALKON / TARAS \n",
    "### WIND / OKNA PCV / OKNA DREWNIANE / PIWNICA / KOMÓRK / STRYCH\n",
    "\n",
    "### FOR RENOVATION / AFTER RENOVATION / DEVELOPMENT / FLAT / APARTMENT / TENEMENT/ BALCONY / TERRACE\n",
    "### LIFT / PVC WINDOWS / WOODEN WINDOWS / BASEMENT / CELL / SLOPE \n",
    "df[\"for_renovation\"] = find_keywords(df, \"do remontu\", top=50, len_before=0, len_after=20, return_all=True).map(parse_founded)\n",
    "df[\"after_renovation\"] = find_keywords(df, \"po remoncie\", top=50, len_before=0, len_after=20, return_all=True).map(parse_founded)\n",
    "df[\"developers_status\"] = find_keywords(df, \"stan deweloperski\", top=50, len_before=0, len_after=20, return_all=True).map(parse_founded)\n",
    "df[\"flat\"] = find_keywords(df, \"mieszkanie\", top=50, len_before=0, len_after=20, return_all=True).map(parse_founded)\n",
    "df[\"apartment\"] = find_keywords(df, \"apartament\", top=50, len_before=0, len_after=20, return_all=True).map(parse_founded)\n",
    "df[\"tenement\"] = find_keywords(df, \"kamienica\", top=50, len_before=0, len_after=20, return_all=True).map(parse_founded)\n",
    "df[\"balcony\"] = find_keywords(df, \"balkon\", top=50, len_before=0, len_after=20, return_all=True).map(parse_founded)\n",
    "df[\"tarrace\"] = find_keywords(df, \"taras\", top=50, len_before=0, len_after=20, return_all=True).map(parse_founded)\n",
    "df[\"lift\"] = find_keywords(df, \"wind\", top=50, len_before=0, len_after=20, return_all=True).map(parse_founded)\n",
    "df[\"windows_pvc\"] = find_keywords(df, \"okna PVC\", top=50, len_before=0, len_after=20, return_all=True).map(parse_founded)\n",
    "df[\"windows_wooden\"] = find_keywords(df, \"okna drewniane\", top=50, len_before=0, len_after=20, return_all=True).map(parse_founded)\n",
    "df[\"basement\"] = find_keywords(df, \"piwnica\", top=50, len_before=0, len_after=20, return_all=True).map(parse_founded)\n",
    "df[\"cell\"] = find_keywords(df, \"komórk\", top=50, len_before=0, len_after=20, return_all=True).map(parse_founded)\n",
    "df[\"slope\"] = find_keywords(df, \"strych\", top=50, len_before=0, len_after=20, return_all=True).map(parse_founded)\n",
    "df[\"garden\"] = find_keywords(df, \"ogród\", top=50, len_before=0, len_after=20, return_all=True).map(parse_founded)\n",
    "df[\"air_conditioning\"] = find_keywords(df, \"klima\", top=50, len_before=0, len_after=20, return_all=True).map(parse_founded)\n",
    "\n",
    "X_mono = df[ [\"for_renovation\", \"after_renovation\", \"developers_status\", \"flat\", \"apartment\",\n",
    "             \"tenement\", \"balcony\", \"tarrace\", \"lift\", \"windows_pvc\", \"windows_wooden\", \"basement\", \"cell\", \"slope\", \"garden\", \"air_conditioning\"] ].fillna(-1)\n",
    "#X_mono.shape\n",
    "#X_mono.sample(10)\n",
    "X_final = np.hstack([X_mono, X_final])"
   ]
  },
  {
   "cell_type": "code",
   "execution_count": 131,
   "metadata": {
    "ExecuteTime": {
     "end_time": "2021-10-24T21:27:31.642690Z",
     "start_time": "2021-10-24T21:27:29.277804Z"
    }
   },
   "outputs": [],
   "source": [
    "### NUMBER OF ROOMS\n",
    "rooms_dic = {\n",
    "            \"1 pok\": 1,\n",
    "            \"1-pok\": 1,\n",
    "            \"1- pok\": 1,\n",
    "            \"jednopokojowe\": 1,\n",
    "            \"jeden pokój\": 1,\n",
    "            \"jednego poko\": 1,\n",
    "            \"2 pok\": 2,\n",
    "            \"2-pok\": 2,\n",
    "            \"2- pok\": 2,\n",
    "            \"dwa pok\": 2,\n",
    "            \"dwupoko\": 2,\n",
    "            \"dwóch poko\": 2,\n",
    "            \"dwóch nieprzechodnich poko\": 2,\n",
    "            \"dwóch przechodnich poko\": 2,\n",
    "            \"dwa niezależne poko\": 2,\n",
    "            \"3 pok\": 3,\n",
    "            \"3-pok\": 3,\n",
    "            \"3- pok\": 3,\n",
    "            \"trzy poko\": 3,\n",
    "            \"trzypoko\": 3,\n",
    "            \"trzech poko\": 3,\n",
    "            \"trzech nieprzechodnich poko\": 3,\n",
    "            \"trzech przechodnich poko\": 3,\n",
    "            \"trzy niezależne poko\": 3,\n",
    "            \"4 pok\": 4,\n",
    "            \"4-pok\": 4,\n",
    "            \"4- pok\": 4,\n",
    "            \"cztery poko\": 4,\n",
    "            \"czteropoko\": 4,\n",
    "            \"czterech poko\": 4,\n",
    "            \"czterech nieprzechodnich poko\": 4,\n",
    "            \"czterech przechodnich poko\": 4,\n",
    "            \"cztery niezależne poko\": 4,\n",
    "            \"5 pok\": 5,\n",
    "            \"5-pok\": 5,\n",
    "            \"5- pok\": 5,\n",
    "            \"pięć poko\": 5,\n",
    "            \"pięciopoko\": 5,\n",
    "            \"pięciu poko\": 5,\n",
    "            \"pięciu nieprzechodnich poko\": 5,\n",
    "            \"pięciu przechodnich poko\": 5,\n",
    "            \"pięć niezależnych poko\": 5,\n",
    "            \"6 pok\": 6,\n",
    "            \"6-pok\": 6,\n",
    "            \"6- pok\": 6,\n",
    "            \"sześć poko\": 6,\n",
    "            \"sześciu poko\": 6,\n",
    "            \"sześciopoko\": 6,\n",
    "            \"sześć niezależnych poko\": 6\n",
    "            }\n",
    "\n",
    "def find_rooms(value):\n",
    "        \n",
    "    value = value.lower()\n",
    "        \n",
    "    for keyword in rooms_dic: \n",
    "        if (value.find(keyword) >= 0):\n",
    "            return int(rooms_dic[keyword])\n",
    "    \n",
    "    return -1\n",
    " \n",
    "df[\"rooms\"] = df.apply(lambda x: find_rooms(x[\"text\"]),axis=1)\n",
    "\n",
    "X_rooms = df[ [\"rooms\"] ].fillna(-1)\n",
    "X_final = np.hstack([X_rooms, X_final])\n",
    "\n",
    "#for k in rooms_dic:\n",
    "#    print(k+\" ==> \"+str(rooms_dic[k]))"
   ]
  },
  {
   "cell_type": "code",
   "execution_count": 132,
   "metadata": {
    "ExecuteTime": {
     "end_time": "2021-10-24T21:27:32.530058Z",
     "start_time": "2021-10-24T21:27:31.711286Z"
    }
   },
   "outputs": [
    {
     "name": "stderr",
     "output_type": "stream",
     "text": [
      "/opt/conda/lib/python3.8/site-packages/pandas/core/series.py:679: RuntimeWarning: divide by zero encountered in log\n",
      "  result = getattr(ufunc, method)(*inputs, **kwargs)\n"
     ]
    }
   ],
   "source": [
    "### PRICE_IN_TEXT\n",
    "pattern_price = r\"cena[^\\d]+([\\d]+[,.\\s]?[\\d]*)\\s*(\\s|zł|pln)\"\n",
    "\n",
    "def try_parse_price(sample):\n",
    "    match = re.match( pattern_price, sample, re.M|re.I)\n",
    "    if match: \n",
    "        return match.group(1)\n",
    "    return sample\n",
    "\n",
    "def parse_price(sample):\n",
    "    match = re.match( pattern_price, sample, re.M|re.I)\n",
    "    if match: \n",
    "        return match.group(1)\n",
    "    return -1\n",
    "\n",
    "\n",
    "#find_keywords(df, \"cena\", top=50, len_before=0, len_after=50, return_all=True).map(parse_price).str.replace(\",\", \"\").str.replace(\".\", \"\").str.replace(\" \", \"\").astype(\"float\")\n",
    "\n",
    "df[\"price_in_text\"] = find_keywords(df, \"cena\", top=50, len_before=0, len_after=50, return_all=True).map(parse_price)\n",
    "df[\"price_in_text\"] = df[\"price_in_text\"].str.replace(\",\", \"\").str.replace(\".\", \"\").str.replace(\" \", \"\")\n",
    "df[\"price_in_text\"] = df[\"price_in_text\"].astype(\"float\")\n",
    "df[\"price_in_text\"] = df[\"price_in_text\"].apply(lambda x: x*1000 if x<1000 else x) # 220 tys. support\n",
    "df[\"price_in_text_log\"] = np.log(df[\"price_in_text\"])\n",
    "X_price = df[ [\"price_in_text\", \"price_in_text_log\"] ].fillna(-1)\n",
    "X_final = np.hstack([X_price, X_final])\n",
    "#df.loc[[13210]]"
   ]
  },
  {
   "cell_type": "code",
   "execution_count": 133,
   "metadata": {
    "ExecuteTime": {
     "end_time": "2021-10-24T21:27:33.296806Z",
     "start_time": "2021-10-24T21:27:32.584903Z"
    }
   },
   "outputs": [],
   "source": [
    "### RENT\n",
    "pattern_rent = r\"czynsz[^\\d]+([\\d]+[,.\\s]?[\\d]*)\\s*(\\s|zł|pln)\"\n",
    "\n",
    "def try_parse_rent(sample):\n",
    "    match = re.match( pattern_rent, sample, re.M|re.I)\n",
    "    if match: \n",
    "        return match.group(1)\n",
    "    return sample\n",
    "\n",
    "def parse_rent(sample):\n",
    "    match = re.match( pattern_rent, sample, re.M|re.I)\n",
    "    if match: \n",
    "        return match.group(1)\n",
    "    return -1\n",
    "\n",
    "\n",
    "df[\"rent\"] = find_keywords(df, \"czynsz\", top=50, len_before=0, len_after=50, return_all=True).map(parse_rent)\n",
    "df[\"rent\"] = df[\"rent\"].str.replace(\",\", \"\").str.replace(\".\", \"\").str.replace(\" \", \"\")\n",
    "df[\"rent\"] = df[\"rent\"].astype(\"float\")\n",
    "df[\"rent_log\"] = np.log(df[\"rent\"])\n",
    "X_rent = df[ [\"rent\", \"rent_log\"] ].fillna(-1)\n",
    "X_final = np.hstack([X_rent, X_final])\n",
    "#df.loc[[13210]]"
   ]
  },
  {
   "cell_type": "code",
   "execution_count": 104,
   "metadata": {
    "ExecuteTime": {
     "end_time": "2021-10-24T20:41:47.521445Z",
     "start_time": "2021-10-24T20:41:45.981828Z"
    }
   },
   "outputs": [],
   "source": [
    "### save data to CSV\n",
    "pd.set_option('display.max_colwidth',None)\n",
    "df[[\"text\"]].head(10)\n",
    "df[ ['text'] ].to_csv('../output/data_text.csv', index=False)"
   ]
  },
  {
   "cell_type": "code",
   "execution_count": 135,
   "metadata": {
    "ExecuteTime": {
     "end_time": "2021-10-24T21:31:29.149902Z",
     "start_time": "2021-10-24T21:31:29.144772Z"
    }
   },
   "outputs": [
    {
     "data": {
      "text/plain": [
       "(29580, 3027)"
      ]
     },
     "execution_count": 135,
     "metadata": {},
     "output_type": "execute_result"
    }
   ],
   "source": [
    "X_final.shape"
   ]
  },
  {
   "cell_type": "code",
   "execution_count": 136,
   "metadata": {
    "ExecuteTime": {
     "end_time": "2021-10-24T21:31:31.238805Z",
     "start_time": "2021-10-24T21:31:30.770329Z"
    }
   },
   "outputs": [],
   "source": [
    "X_train, y_train = X_final[ y.notnull()], y[ y.notnull()]\n",
    "X_test, y_test = X_final[ y.isnull()], y[ y.isnull()]"
   ]
  },
  {
   "cell_type": "code",
   "execution_count": 137,
   "metadata": {
    "ExecuteTime": {
     "end_time": "2021-10-24T21:31:31.477988Z",
     "start_time": "2021-10-24T21:31:31.472531Z"
    }
   },
   "outputs": [
    {
     "data": {
      "text/plain": [
       "array([[ 3.00000000e+02,  5.70378247e+00, -1.00000000e+00, ...,\n",
       "         0.00000000e+00,  0.00000000e+00,  0.00000000e+00],\n",
       "       [ 2.00000000e+02,  5.29831737e+00, -1.00000000e+00, ...,\n",
       "         0.00000000e+00,  0.00000000e+00,  0.00000000e+00],\n",
       "       [-1.00000000e+00, -1.00000000e+00, -1.00000000e+00, ...,\n",
       "         0.00000000e+00,  0.00000000e+00,  0.00000000e+00],\n",
       "       ...,\n",
       "       [-1.00000000e+00, -1.00000000e+00,  2.95000000e+05, ...,\n",
       "         0.00000000e+00,  1.00000000e+00,  0.00000000e+00],\n",
       "       [-1.00000000e+00, -1.00000000e+00, -1.00000000e+00, ...,\n",
       "         0.00000000e+00,  0.00000000e+00,  0.00000000e+00],\n",
       "       [-1.00000000e+00, -1.00000000e+00, -1.00000000e+00, ...,\n",
       "         0.00000000e+00,  1.00000000e+00,  0.00000000e+00]])"
      ]
     },
     "execution_count": 137,
     "metadata": {},
     "output_type": "execute_result"
    }
   ],
   "source": [
    "X_final"
   ]
  },
  {
   "cell_type": "code",
   "execution_count": 138,
   "metadata": {
    "ExecuteTime": {
     "end_time": "2021-10-24T21:48:42.329676Z",
     "start_time": "2021-10-24T21:31:35.442066Z"
    }
   },
   "outputs": [
    {
     "name": "stdout",
     "output_type": "stream",
     "text": [
      "local score:  -44138.71 161.24\n"
     ]
    }
   ],
   "source": [
    "# local score\n",
    "model = xgb.XGBRegressor(n_estimators=1000, max_depth=5, random_state=0)\n",
    "scores = cross_val_score(model, X_train, y_train, cv=3, scoring=\"neg_mean_absolute_error\")\n",
    "print(\"local score: \", np.around(np.mean(scores), 2), np.around(np.std(scores), 2))\n",
    "\n",
    "# xgb (ne=1000,md=5) local score: -44138.71 # CountVectorizer(mf:3000}) 15m 50s F: area + parking + ...mono... + rooms + price_in_text\n",
    "# na Kaglu: 42746.08"
   ]
  },
  {
   "cell_type": "code",
   "execution_count": 139,
   "metadata": {
    "ExecuteTime": {
     "end_time": "2021-10-24T21:56:42.771718Z",
     "start_time": "2021-10-24T21:48:50.049514Z"
    }
   },
   "outputs": [],
   "source": [
    "## train for predict\n",
    "model.fit(X_train, y_train)\n",
    "df_test['price_value'] = model.predict(X_test)\n",
    "df_test[ ['id', 'price_value'] ].to_csv('../output/starter_1_jm_v3.csv', index=False)\n",
    "# time 10m"
   ]
  }
 ],
 "metadata": {
  "kernelspec": {
   "display_name": "Python 3",
   "language": "python",
   "name": "python3"
  },
  "language_info": {
   "codemirror_mode": {
    "name": "ipython",
    "version": 3
   },
   "file_extension": ".py",
   "mimetype": "text/x-python",
   "name": "python",
   "nbconvert_exporter": "python",
   "pygments_lexer": "ipython3",
   "version": "3.8.6"
  }
 },
 "nbformat": 4,
 "nbformat_minor": 2
}
